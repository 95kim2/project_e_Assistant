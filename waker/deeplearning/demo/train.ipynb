{
 "cells": [
  {
   "cell_type": "code",
   "execution_count": 3,
   "metadata": {},
   "outputs": [],
   "source": [
    "import datetime\n",
    "import numpy as np\n",
    "import matplotlib.pyplot as plt\n",
    "from keras.layers import Input, Activation, Conv2D, Flatten, Dense, MaxPooling2D\n",
    "from keras.models import Model, load_model\n",
    "from keras.preprocessing.image import ImageDataGenerator\n",
    "from keras.callbacks import ModelCheckpoint, ReduceLROnPlateau\n",
    "plt.style.use('dark_background')"
   ]
  },
  {
   "cell_type": "markdown",
   "metadata": {},
   "source": [
    "# Load Dataset"
   ]
  },
  {
   "cell_type": "code",
   "execution_count": 8,
   "metadata": {},
   "outputs": [
    {
     "ename": "FileNotFoundError",
     "evalue": "[Errno 2] No such file or directory: 'dataset/x_train.npy'",
     "output_type": "error",
     "traceback": [
      "\u001b[1;31m---------------------------------------------------------------------------\u001b[0m",
      "\u001b[1;31mFileNotFoundError\u001b[0m                         Traceback (most recent call last)",
      "\u001b[1;32m<ipython-input-8-8f19afde0609>\u001b[0m in \u001b[0;36m<module>\u001b[1;34m\u001b[0m\n\u001b[1;32m----> 1\u001b[1;33m \u001b[0mx_train\u001b[0m \u001b[1;33m=\u001b[0m \u001b[0mnp\u001b[0m\u001b[1;33m.\u001b[0m\u001b[0mload\u001b[0m\u001b[1;33m(\u001b[0m\u001b[1;34m'dataset/x_train.npy'\u001b[0m\u001b[1;33m)\u001b[0m\u001b[1;33m.\u001b[0m\u001b[0mastype\u001b[0m\u001b[1;33m(\u001b[0m\u001b[0mnp\u001b[0m\u001b[1;33m.\u001b[0m\u001b[0mfloat32\u001b[0m\u001b[1;33m)\u001b[0m\u001b[1;33m\u001b[0m\u001b[1;33m\u001b[0m\u001b[0m\n\u001b[0m\u001b[0;32m      2\u001b[0m \u001b[0my_train\u001b[0m \u001b[1;33m=\u001b[0m \u001b[0mnp\u001b[0m\u001b[1;33m.\u001b[0m\u001b[0mload\u001b[0m\u001b[1;33m(\u001b[0m\u001b[1;34m'dataset/y_train.npy'\u001b[0m\u001b[1;33m)\u001b[0m\u001b[1;33m.\u001b[0m\u001b[0mastype\u001b[0m\u001b[1;33m(\u001b[0m\u001b[0mnp\u001b[0m\u001b[1;33m.\u001b[0m\u001b[0mfloat32\u001b[0m\u001b[1;33m)\u001b[0m\u001b[1;33m\u001b[0m\u001b[1;33m\u001b[0m\u001b[0m\n\u001b[0;32m      3\u001b[0m \u001b[0mx_val\u001b[0m \u001b[1;33m=\u001b[0m \u001b[0mnp\u001b[0m\u001b[1;33m.\u001b[0m\u001b[0mload\u001b[0m\u001b[1;33m(\u001b[0m\u001b[1;34m'dataset/x_val.npy'\u001b[0m\u001b[1;33m)\u001b[0m\u001b[1;33m.\u001b[0m\u001b[0mastype\u001b[0m\u001b[1;33m(\u001b[0m\u001b[0mnp\u001b[0m\u001b[1;33m.\u001b[0m\u001b[0mfloat32\u001b[0m\u001b[1;33m)\u001b[0m\u001b[1;33m\u001b[0m\u001b[1;33m\u001b[0m\u001b[0m\n\u001b[0;32m      4\u001b[0m \u001b[0my_val\u001b[0m \u001b[1;33m=\u001b[0m \u001b[0mnp\u001b[0m\u001b[1;33m.\u001b[0m\u001b[0mload\u001b[0m\u001b[1;33m(\u001b[0m\u001b[1;34m'dataset/y_val.npy'\u001b[0m\u001b[1;33m)\u001b[0m\u001b[1;33m.\u001b[0m\u001b[0mastype\u001b[0m\u001b[1;33m(\u001b[0m\u001b[0mnp\u001b[0m\u001b[1;33m.\u001b[0m\u001b[0mfloat32\u001b[0m\u001b[1;33m)\u001b[0m\u001b[1;33m\u001b[0m\u001b[1;33m\u001b[0m\u001b[0m\n\u001b[0;32m      5\u001b[0m \u001b[1;33m\u001b[0m\u001b[0m\n",
      "\u001b[1;32m~\\anaconda3\\lib\\site-packages\\numpy\\lib\\npyio.py\u001b[0m in \u001b[0;36mload\u001b[1;34m(file, mmap_mode, allow_pickle, fix_imports, encoding)\u001b[0m\n\u001b[0;32m    426\u001b[0m         \u001b[0mown_fid\u001b[0m \u001b[1;33m=\u001b[0m \u001b[1;32mFalse\u001b[0m\u001b[1;33m\u001b[0m\u001b[1;33m\u001b[0m\u001b[0m\n\u001b[0;32m    427\u001b[0m     \u001b[1;32melse\u001b[0m\u001b[1;33m:\u001b[0m\u001b[1;33m\u001b[0m\u001b[1;33m\u001b[0m\u001b[0m\n\u001b[1;32m--> 428\u001b[1;33m         \u001b[0mfid\u001b[0m \u001b[1;33m=\u001b[0m \u001b[0mopen\u001b[0m\u001b[1;33m(\u001b[0m\u001b[0mos_fspath\u001b[0m\u001b[1;33m(\u001b[0m\u001b[0mfile\u001b[0m\u001b[1;33m)\u001b[0m\u001b[1;33m,\u001b[0m \u001b[1;34m\"rb\"\u001b[0m\u001b[1;33m)\u001b[0m\u001b[1;33m\u001b[0m\u001b[1;33m\u001b[0m\u001b[0m\n\u001b[0m\u001b[0;32m    429\u001b[0m         \u001b[0mown_fid\u001b[0m \u001b[1;33m=\u001b[0m \u001b[1;32mTrue\u001b[0m\u001b[1;33m\u001b[0m\u001b[1;33m\u001b[0m\u001b[0m\n\u001b[0;32m    430\u001b[0m \u001b[1;33m\u001b[0m\u001b[0m\n",
      "\u001b[1;31mFileNotFoundError\u001b[0m: [Errno 2] No such file or directory: 'dataset/x_train.npy'"
     ]
    }
   ],
   "source": [
    "x_train = np.load('dataset/x_train.npy').astype(np.float32)\n",
    "y_train = np.load('dataset/y_train.npy').astype(np.float32)\n",
    "x_val = np.load('dataset/x_val.npy').astype(np.float32)\n",
    "y_val = np.load('dataset/y_val.npy').astype(np.float32)\n",
    "\n",
    "print(x_train.shape, y_train.shape)\n",
    "print(x_val.shape, y_val.shape)"
   ]
  },
  {
   "cell_type": "markdown",
   "metadata": {},
   "source": [
    "# Preview"
   ]
  },
  {
   "cell_type": "code",
   "execution_count": 7,
   "metadata": {},
   "outputs": [
    {
     "data": {
      "text/plain": [
       "<matplotlib.image.AxesImage at 0x1bf156da4c8>"
      ]
     },
     "execution_count": 7,
     "metadata": {},
     "output_type": "execute_result"
    },
    {
     "data": {
      "image/png": "[encoded data removed]",
      "text/plain": [
       "<Figure size 432x288 with 2 Axes>"
      ]
     },
     "metadata": {},
     "output_type": "display_data"
    }
   ],
   "source": [
    "plt.subplot(2, 1, 1)\n",
    "plt.title(str(y_train[0]))\n",
    "plt.imshow(x_train[0].reshape((26, 34)), cmap='gray')\n",
    "plt.subplot(2, 1, 2)\n",
    "plt.title(str(y_val[4]))\n",
    "plt.imshow(x_val[4].reshape((26, 34)), cmap='gray')"
   ]
  },
  {
   "cell_type": "markdown",
   "metadata": {},
   "source": [
    "# Data Augmentation"
   ]
  },
  {
   "cell_type": "code",
   "execution_count": 7,
   "metadata": {},
   "outputs": [],
   "source": [
    "train_datagen = ImageDataGenerator(\n",
    "    rescale=1./255,\n",
    "    rotation_range=10,\n",
    "    width_shift_range=0.2,\n",
    "    height_shift_range=0.2,\n",
    "    shear_range=0.2\n",
    ")\n",
    "\n",
    "val_datagen = ImageDataGenerator(rescale=1./255)\n",
    "\n",
    "train_generator = train_datagen.flow(\n",
    "    x=x_train, y=y_train,\n",
    "    batch_size=32,\n",
    "    shuffle=True\n",
    ")\n",
    "\n",
    "val_generator = val_datagen.flow(\n",
    "    x=x_val, y=y_val,\n",
    "    batch_size=32,\n",
    "    shuffle=False\n",
    ")"
   ]
  },
  {
   "cell_type": "markdown",
   "metadata": {},
   "source": [
    "# Build Model"
   ]
  },
  {
   "cell_type": "code",
   "execution_count": 8,
   "metadata": {},
   "outputs": [
    {
     "name": "stdout",
     "output_type": "stream",
     "text": [
      "Model: \"model_1\"\n",
      "_________________________________________________________________\n",
      "Layer (type)                 Output Shape              Param #   \n",
      "=================================================================\n",
      "input_1 (InputLayer)         (None, 26, 34, 1)         0         \n",
      "_________________________________________________________________\n",
      "conv2d_1 (Conv2D)            (None, 26, 34, 32)        320       \n",
      "_________________________________________________________________\n",
      "max_pooling2d_1 (MaxPooling2 (None, 13, 17, 32)        0         \n",
      "_________________________________________________________________\n",
      "conv2d_2 (Conv2D)            (None, 13, 17, 64)        18496     \n",
      "_________________________________________________________________\n",
      "max_pooling2d_2 (MaxPooling2 (None, 6, 8, 64)          0         \n",
      "_________________________________________________________________\n",
      "conv2d_3 (Conv2D)            (None, 6, 8, 128)         73856     \n",
      "_________________________________________________________________\n",
      "max_pooling2d_3 (MaxPooling2 (None, 3, 4, 128)         0         \n",
      "_________________________________________________________________\n",
      "flatten_1 (Flatten)          (None, 1536)              0         \n",
      "_________________________________________________________________\n",
      "dense_1 (Dense)              (None, 512)               786944    \n",
      "_________________________________________________________________\n",
      "activation_1 (Activation)    (None, 512)               0         \n",
      "_________________________________________________________________\n",
      "dense_2 (Dense)              (None, 1)                 513       \n",
      "_________________________________________________________________\n",
      "activation_2 (Activation)    (None, 1)                 0         \n",
      "=================================================================\n",
      "Total params: 880,129\n",
      "Trainable params: 880,129\n",
      "Non-trainable params: 0\n",
      "_________________________________________________________________\n"
     ]
    }
   ],
   "source": [
    "inputs = Input(shape=(26, 34, 1))\n",
    "\n",
    "net = Conv2D(32, kernel_size=3, strides=1, padding='same', activation='relu')(inputs)\n",
    "net = MaxPooling2D(pool_size=2)(net)\n",
    "\n",
    "net = Conv2D(64, kernel_size=3, strides=1, padding='same', activation='relu')(net)\n",
    "net = MaxPooling2D(pool_size=2)(net)\n",
    "\n",
    "net = Conv2D(128, kernel_size=3, strides=1, padding='same', activation='relu')(net)\n",
    "net = MaxPooling2D(pool_size=2)(net)\n",
    "\n",
    "net = Flatten()(net)\n",
    "\n",
    "net = Dense(512)(net)\n",
    "net = Activation('relu')(net)\n",
    "net = Dense(1)(net)\n",
    "outputs = Activation('sigmoid')(net)\n",
    "\n",
    "model = Model(inputs=inputs, outputs=outputs)\n",
    "\n",
    "model.compile(optimizer='adam', loss='binary_crossentropy', metrics=['acc'])\n",
    "\n",
    "model.summary()"
   ]
  },
  {
   "cell_type": "markdown",
   "metadata": {},
   "source": [
    "# Train"
   ]
  },
  {
   "cell_type": "code",
   "execution_count": 14,
   "metadata": {
    "scrolled": true
   },
   "outputs": [
    {
     "name": "stdout",
     "output_type": "stream",
     "text": [
      "Epoch 1/50\n",
      "81/81 [==============================] - 3s 34ms/step - loss: 0.0556 - acc: 0.9807 - val_loss: 0.0045 - val_acc: 0.9861\n",
      "\n",
      "Epoch 00001: val_acc improved from -inf to 0.98611, saving model to models/2020_05_02_20_01_27.h5\n",
      "Epoch 2/50\n",
      "81/81 [==============================] - 3s 32ms/step - loss: 0.0543 - acc: 0.9826 - val_loss: 0.0011 - val_acc: 0.9931\n",
      "\n",
      "Epoch 00002: val_acc improved from 0.98611 to 0.99306, saving model to models/2020_05_02_20_01_27.h5\n",
      "Epoch 3/50\n",
      "81/81 [==============================] - 2s 30ms/step - loss: 0.0333 - acc: 0.9884 - val_loss: 0.0022 - val_acc: 0.9931\n",
      "\n",
      "Epoch 00003: val_acc did not improve from 0.99306\n",
      "Epoch 4/50\n",
      "81/81 [==============================] - 2s 30ms/step - loss: 0.0385 - acc: 0.9876 - val_loss: 0.0162 - val_acc: 0.9965\n",
      "\n",
      "Epoch 00004: val_acc improved from 0.99306 to 0.99653, saving model to models/2020_05_02_20_01_27.h5\n",
      "Epoch 5/50\n",
      "81/81 [==============================] - 2s 30ms/step - loss: 0.0359 - acc: 0.9880 - val_loss: 7.7766e-04 - val_acc: 0.9965\n",
      "\n",
      "Epoch 00005: val_acc did not improve from 0.99653\n",
      "Epoch 6/50\n",
      "81/81 [==============================] - 2s 30ms/step - loss: 0.0330 - acc: 0.9884 - val_loss: 0.0042 - val_acc: 0.9965\n",
      "\n",
      "Epoch 00006: val_acc did not improve from 0.99653\n",
      "Epoch 7/50\n",
      "81/81 [==============================] - 2s 30ms/step - loss: 0.0333 - acc: 0.9876 - val_loss: 8.0537e-04 - val_acc: 0.9965\n",
      "\n",
      "Epoch 00007: val_acc did not improve from 0.99653\n",
      "Epoch 8/50\n",
      "81/81 [==============================] - 2s 30ms/step - loss: 0.0387 - acc: 0.9892 - val_loss: 0.0068 - val_acc: 0.9965\n",
      "\n",
      "Epoch 00008: val_acc did not improve from 0.99653\n",
      "Epoch 9/50\n",
      "81/81 [==============================] - 2s 30ms/step - loss: 0.0297 - acc: 0.9911 - val_loss: 0.0060 - val_acc: 0.9965\n",
      "\n",
      "Epoch 00009: val_acc did not improve from 0.99653\n",
      "Epoch 10/50\n",
      "81/81 [==============================] - 2s 30ms/step - loss: 0.0250 - acc: 0.9919 - val_loss: 0.0018 - val_acc: 0.9965\n",
      "\n",
      "Epoch 00010: val_acc did not improve from 0.99653\n",
      "Epoch 11/50\n",
      "81/81 [==============================] - 2s 30ms/step - loss: 0.0326 - acc: 0.9892 - val_loss: 0.0028 - val_acc: 0.9896\n",
      "\n",
      "Epoch 00011: val_acc did not improve from 0.99653\n",
      "Epoch 12/50\n",
      "81/81 [==============================] - 2s 30ms/step - loss: 0.0402 - acc: 0.9880 - val_loss: 0.0127 - val_acc: 0.9861\n",
      "\n",
      "Epoch 00012: val_acc did not improve from 0.99653\n",
      "Epoch 13/50\n",
      "81/81 [==============================] - 2s 30ms/step - loss: 0.0319 - acc: 0.9915 - val_loss: 9.5816e-04 - val_acc: 0.9931\n",
      "\n",
      "Epoch 00013: val_acc did not improve from 0.99653\n",
      "Epoch 14/50\n",
      "81/81 [==============================] - 3s 31ms/step - loss: 0.0261 - acc: 0.9923 - val_loss: 0.0012 - val_acc: 0.9896\n",
      "\n",
      "Epoch 00014: val_acc did not improve from 0.99653\n",
      "\n",
      "Epoch 00014: ReduceLROnPlateau reducing learning rate to 0.00020000000949949026.\n",
      "Epoch 15/50\n",
      "81/81 [==============================] - 2s 30ms/step - loss: 0.0201 - acc: 0.9927 - val_loss: 7.6647e-04 - val_acc: 0.9931\n",
      "\n",
      "Epoch 00015: val_acc did not improve from 0.99653\n",
      "Epoch 16/50\n",
      "81/81 [==============================] - 2s 30ms/step - loss: 0.0153 - acc: 0.9946 - val_loss: 5.5100e-04 - val_acc: 0.9965\n",
      "\n",
      "Epoch 00016: val_acc did not improve from 0.99653\n",
      "Epoch 17/50\n",
      "81/81 [==============================] - 2s 29ms/step - loss: 0.0117 - acc: 0.9977 - val_loss: 7.6946e-04 - val_acc: 0.9965\n",
      "\n",
      "Epoch 00017: val_acc did not improve from 0.99653\n",
      "Epoch 18/50\n",
      "81/81 [==============================] - 2s 30ms/step - loss: 0.0135 - acc: 0.9957 - val_loss: 5.5389e-04 - val_acc: 0.9965\n",
      "\n",
      "Epoch 00018: val_acc did not improve from 0.99653\n",
      "Epoch 19/50\n",
      "81/81 [==============================] - 2s 30ms/step - loss: 0.0091 - acc: 0.9965 - val_loss: 4.9649e-04 - val_acc: 0.9965\n",
      "\n",
      "Epoch 00019: val_acc did not improve from 0.99653\n",
      "Epoch 20/50\n",
      "81/81 [==============================] - 2s 30ms/step - loss: 0.0123 - acc: 0.9954 - val_loss: 4.7032e-04 - val_acc: 0.9965\n",
      "\n",
      "Epoch 00020: val_acc did not improve from 0.99653\n",
      "Epoch 21/50\n",
      "81/81 [==============================] - 2s 30ms/step - loss: 0.0078 - acc: 0.9977 - val_loss: 2.0548e-04 - val_acc: 0.9965\n",
      "\n",
      "Epoch 00021: val_acc did not improve from 0.99653\n",
      "Epoch 22/50\n",
      "81/81 [==============================] - 2s 29ms/step - loss: 0.0115 - acc: 0.9965 - val_loss: 2.1202e-04 - val_acc: 0.9965\n",
      "\n",
      "Epoch 00022: val_acc did not improve from 0.99653\n",
      "Epoch 23/50\n",
      "81/81 [==============================] - 2s 30ms/step - loss: 0.0060 - acc: 0.9985 - val_loss: 2.1103e-04 - val_acc: 0.9965\n",
      "\n",
      "Epoch 00023: val_acc did not improve from 0.99653\n",
      "Epoch 24/50\n",
      "81/81 [==============================] - 2s 30ms/step - loss: 0.0052 - acc: 0.9985 - val_loss: 3.4355e-04 - val_acc: 0.9965\n",
      "\n",
      "Epoch 00024: val_acc did not improve from 0.99653\n",
      "\n",
      "Epoch 00024: ReduceLROnPlateau reducing learning rate to 4.0000001899898055e-05.\n",
      "Epoch 25/50\n",
      "81/81 [==============================] - 2s 30ms/step - loss: 0.0095 - acc: 0.9969 - val_loss: 2.0049e-04 - val_acc: 0.9965\n",
      "\n",
      "Epoch 00025: val_acc did not improve from 0.99653\n",
      "Epoch 26/50\n",
      "81/81 [==============================] - 2s 30ms/step - loss: 0.0076 - acc: 0.9973 - val_loss: 1.7565e-04 - val_acc: 0.9965\n",
      "\n",
      "Epoch 00026: val_acc did not improve from 0.99653\n",
      "Epoch 27/50\n",
      "81/81 [==============================] - 2s 30ms/step - loss: 0.0036 - acc: 0.9992 - val_loss: 1.5636e-04 - val_acc: 0.9965\n",
      "\n",
      "Epoch 00027: val_acc did not improve from 0.99653\n",
      "Epoch 28/50\n",
      "81/81 [==============================] - 2s 30ms/step - loss: 0.0047 - acc: 0.9985 - val_loss: 1.7235e-04 - val_acc: 0.9965\n",
      "\n",
      "Epoch 00028: val_acc did not improve from 0.99653\n",
      "Epoch 29/50\n",
      "81/81 [==============================] - 2s 30ms/step - loss: 0.0040 - acc: 0.9992 - val_loss: 1.4299e-04 - val_acc: 0.9965\n",
      "\n",
      "Epoch 00029: val_acc did not improve from 0.99653\n",
      "Epoch 30/50\n",
      "81/81 [==============================] - 2s 30ms/step - loss: 0.0059 - acc: 0.9973 - val_loss: 1.7264e-04 - val_acc: 0.9965\n",
      "\n",
      "Epoch 00030: val_acc did not improve from 0.99653\n",
      "Epoch 31/50\n",
      "81/81 [==============================] - 2s 30ms/step - loss: 0.0052 - acc: 0.9985 - val_loss: 1.6972e-04 - val_acc: 0.9965\n",
      "\n",
      "Epoch 00031: val_acc did not improve from 0.99653\n",
      "Epoch 32/50\n",
      "81/81 [==============================] - 2s 30ms/step - loss: 0.0040 - acc: 0.9988 - val_loss: 2.0857e-04 - val_acc: 0.9965\n",
      "\n",
      "Epoch 00032: val_acc did not improve from 0.99653\n",
      "Epoch 33/50\n",
      "81/81 [==============================] - 2s 30ms/step - loss: 0.0051 - acc: 0.9988 - val_loss: 2.0757e-04 - val_acc: 0.9965\n",
      "\n",
      "Epoch 00033: val_acc did not improve from 0.99653\n",
      "Epoch 34/50\n",
      "81/81 [==============================] - 3s 31ms/step - loss: 0.0086 - acc: 0.9969 - val_loss: 1.5158e-04 - val_acc: 0.9965\n",
      "\n",
      "Epoch 00034: val_acc did not improve from 0.99653\n",
      "\n",
      "Epoch 00034: ReduceLROnPlateau reducing learning rate to 1e-05.\n",
      "Epoch 35/50\n",
      "81/81 [==============================] - 2s 30ms/step - loss: 0.0050 - acc: 0.9992 - val_loss: 1.4880e-04 - val_acc: 0.9965\n",
      "\n",
      "Epoch 00035: val_acc did not improve from 0.99653\n",
      "Epoch 36/50\n",
      "81/81 [==============================] - 2s 30ms/step - loss: 0.0052 - acc: 0.9988 - val_loss: 1.7375e-04 - val_acc: 0.9965\n",
      "\n",
      "Epoch 00036: val_acc did not improve from 0.99653\n",
      "Epoch 37/50\n",
      "81/81 [==============================] - 2s 29ms/step - loss: 0.0044 - acc: 0.9992 - val_loss: 1.8447e-04 - val_acc: 0.9965\n",
      "\n",
      "Epoch 00037: val_acc did not improve from 0.99653\n",
      "Epoch 38/50\n",
      "81/81 [==============================] - 2s 30ms/step - loss: 0.0056 - acc: 0.9985 - val_loss: 2.1262e-04 - val_acc: 0.9965\n",
      "\n",
      "Epoch 00038: val_acc did not improve from 0.99653\n",
      "Epoch 39/50\n",
      "81/81 [==============================] - 2s 30ms/step - loss: 0.0048 - acc: 0.9988 - val_loss: 1.8068e-04 - val_acc: 0.9965\n",
      "\n",
      "Epoch 00039: val_acc did not improve from 0.99653\n",
      "Epoch 40/50\n",
      "81/81 [==============================] - 2s 29ms/step - loss: 0.0061 - acc: 0.9981 - val_loss: 1.6451e-04 - val_acc: 0.9965\n",
      "\n",
      "Epoch 00040: val_acc did not improve from 0.99653\n",
      "Epoch 41/50\n",
      "81/81 [==============================] - 2s 30ms/step - loss: 0.0056 - acc: 0.9988 - val_loss: 1.5715e-04 - val_acc: 0.9965\n",
      "\n",
      "Epoch 00041: val_acc did not improve from 0.99653\n",
      "Epoch 42/50\n",
      "81/81 [==============================] - 2s 30ms/step - loss: 0.0046 - acc: 0.9985 - val_loss: 1.8295e-04 - val_acc: 0.9965\n",
      "\n",
      "Epoch 00042: val_acc did not improve from 0.99653\n",
      "Epoch 43/50\n",
      "81/81 [==============================] - 2s 30ms/step - loss: 0.0035 - acc: 0.9992 - val_loss: 1.6216e-04 - val_acc: 0.9965\n",
      "\n",
      "Epoch 00043: val_acc did not improve from 0.99653\n",
      "Epoch 44/50\n",
      "81/81 [==============================] - 2s 29ms/step - loss: 0.0048 - acc: 0.9981 - val_loss: 1.7362e-04 - val_acc: 0.9965\n",
      "\n",
      "Epoch 00044: val_acc did not improve from 0.99653\n",
      "Epoch 45/50\n",
      "81/81 [==============================] - 2s 29ms/step - loss: 0.0058 - acc: 0.9981 - val_loss: 1.8934e-04 - val_acc: 0.9965\n",
      "\n",
      "Epoch 00045: val_acc did not improve from 0.99653\n",
      "Epoch 46/50\n",
      "81/81 [==============================] - 2s 30ms/step - loss: 0.0036 - acc: 0.9988 - val_loss: 1.5579e-04 - val_acc: 0.9965.0041 \n",
      "\n",
      "Epoch 00046: val_acc did not improve from 0.99653\n",
      "Epoch 47/50\n",
      "81/81 [==============================] - 2s 30ms/step - loss: 0.0029 - acc: 0.9992 - val_loss: 1.3995e-04 - val_acc: 0.9965\n",
      "\n",
      "Epoch 00047: val_acc did not improve from 0.99653\n",
      "Epoch 48/50\n",
      "81/81 [==============================] - 2s 30ms/step - loss: 0.0041 - acc: 0.9988 - val_loss: 1.4724e-04 - val_acc: 0.9965\n",
      "\n",
      "Epoch 00048: val_acc did not improve from 0.99653\n",
      "Epoch 49/50\n",
      "81/81 [==============================] - ETA: 0s - loss: 0.0051 - acc: 0.998 - 2s 30ms/step - loss: 0.0050 - acc: 0.9981 - val_loss: 1.2882e-04 - val_acc: 0.9965\n",
      "\n",
      "Epoch 00049: val_acc did not improve from 0.99653\n",
      "Epoch 50/50\n",
      "81/81 [==============================] - 2s 31ms/step - loss: 0.0048 - acc: 0.9985 - val_loss: 1.1552e-04 - val_acc: 0.9965\n",
      "\n",
      "Epoch 00050: val_acc did not improve from 0.99653\n"
     ]
    },
    {
     "data": {
      "text/plain": [
       "<keras.callbacks.callbacks.History at 0x2b987ce2988>"
      ]
     },
     "execution_count": 14,
     "metadata": {},
     "output_type": "execute_result"
    }
   ],
   "source": [
    "start_time = datetime.datetime.now().strftime('%Y_%m_%d_%H_%M_%S')\n",
    "\n",
    "model.fit_generator(\n",
    "    train_generator, epochs=50, validation_data=val_generator,\n",
    "    callbacks=[\n",
    "        ModelCheckpoint('models/%s.h5' % (start_time), monitor='val_acc', save_best_only=True, mode='max', verbose=1),\n",
    "        ReduceLROnPlateau(monitor='val_acc', factor=0.2, patience=10, verbose=1, mode='auto', min_lr=1e-05)\n",
    "    ]\n",
    ")"
   ]
  },
  {
   "cell_type": "markdown",
   "metadata": {},
   "source": [
    "# Confusion Matrix"
   ]
  },
  {
   "cell_type": "code",
   "execution_count": 15,
   "metadata": {},
   "outputs": [
    {
     "name": "stdout",
     "output_type": "stream",
     "text": [
      "test acc: 0.9965277777777778\n"
     ]
    },
    {
     "data": {
      "text/plain": [
       "<matplotlib.axes._subplots.AxesSubplot at 0x2b98aae1c08>"
      ]
     },
     "execution_count": 15,
     "metadata": {},
     "output_type": "execute_result"
    },
    {
     "data": {
      "image/png": "[encoded data removed]",
      "text/plain": [
       "<Figure size 432x288 with 2 Axes>"
      ]
     },
     "metadata": {},
     "output_type": "display_data"
    }
   ],
   "source": [
    "from sklearn.metrics import accuracy_score, confusion_matrix\n",
    "import seaborn as sns\n",
    "\n",
    "model = load_model('models/%s.h5' % (start_time))\n",
    "\n",
    "y_pred = model.predict(x_val/255.)\n",
    "y_pred_logical = (y_pred > 0.7).astype(np.int)\n",
    "\n",
    "print ('test acc: %s' % accuracy_score(y_val, y_pred_logical))\n",
    "cm = confusion_matrix(y_val, y_pred_logical)\n",
    "sns.heatmap(cm, annot=True)"
   ]
  },
  {
   "cell_type": "markdown",
   "metadata": {},
   "source": [
    "# Distribution of Prediction"
   ]
  },
  {
   "cell_type": "code",
   "execution_count": 11,
   "metadata": {},
   "outputs": [
    {
     "data": {
      "image/png": "[encoded data removed]",
      "text/plain": [
       "<Figure size 432x288 with 1 Axes>"
      ]
     },
     "metadata": {},
     "output_type": "display_data"
    }
   ],
   "source": [
    "ax = sns.distplot(y_pred, kde=False)"
   ]
  },
  {
   "cell_type": "code",
   "execution_count": null,
   "metadata": {},
   "outputs": [],
   "source": []
  }
 ],
 "metadata": {
  "kernelspec": {
   "display_name": "Python 3",
   "language": "python",
   "name": "python3"
  },
  "language_info": {
   "codemirror_mode": {
    "name": "ipython",
    "version": 3
   },
   "file_extension": ".py",
   "mimetype": "text/x-python",
   "name": "python",
   "nbconvert_exporter": "python",
   "pygments_lexer": "ipython3",
   "version": "3.7.6"
  }
 },
 "nbformat": 4,
 "nbformat_minor": 2
}
