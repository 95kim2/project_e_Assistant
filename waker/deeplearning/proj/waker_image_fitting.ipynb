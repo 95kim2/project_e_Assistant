{
 "cells": [
  {
   "cell_type": "code",
   "execution_count": 1,
   "metadata": {},
   "outputs": [
    {
     "name": "stdout",
     "output_type": "stream",
     "text": [
      "(26, 34)\n"
     ]
    }
   ],
   "source": [
    "import numpy as np\n",
    "import matplotlib.pyplot as plt\n",
    "import os\n",
    "import cv2\n",
    "\n",
    "DATADIR = \"dataset\\self\"\n",
    "EYEOPEN = [\"closed\",\"open\"]\n",
    "EYEPLACE = [\"left\", \"right\"]\n",
    "\n",
    "for eye in EYEOPEN:\n",
    "    path = os.path.join(DATADIR, eye)\n",
    "    for place in EYEPLACE:\n",
    "        path2 = os.path.join(path, place)\n",
    "        for img in os.listdir(path2):\n",
    "            img_array = cv2.imread(os.path.join(path2,img), cv2.IMREAD_GRAYSCALE)\n",
    "\n",
    "print(img_array.shape)\n"
   ]
  },
  {
   "cell_type": "code",
   "execution_count": 2,
   "metadata": {},
   "outputs": [],
   "source": [
    "training_data = []\n",
    "IMG_HEIGHT = 100\n",
    "IMG_WIDTH = 100\n",
    "def create_training_data():\n",
    "    for eye in EYEOPEN:\n",
    "        pathtmp = os.path.join(DATADIR, eye)\n",
    "        for place in EYEPLACE:\n",
    "            path = os.path.join(pathtmp, place)\n",
    "            class_num = str(EYEOPEN.index(eye))+str(EYEPLACE.index(place))\n",
    "            for img in os.listdir(path):\n",
    "                try:\n",
    "                    img_array = cv2.imread(os.path.join(path,img), cv2.IMREAD_GRAYSCALE)\n",
    "                    new_array = cv2.resize(img_array, (IMG_HEIGHT, IMG_WIDTH))\n",
    "                    cv2.imwrite(os.path.join(path,img), new_array)\n",
    "                except Exception as e:\n",
    "                    pass\n",
    "\n",
    "create_training_data()"
   ]
  }
 ],
 "metadata": {
  "kernelspec": {
   "display_name": "Python 3",
   "language": "python",
   "name": "python3"
  },
  "language_info": {
   "codemirror_mode": {
    "name": "ipython",
    "version": 3
   },
   "file_extension": ".py",
   "mimetype": "text/x-python",
   "name": "python",
   "nbconvert_exporter": "python",
   "pygments_lexer": "ipython3",
   "version": "3.7.6"
  }
 },
 "nbformat": 4,
 "nbformat_minor": 4
}
