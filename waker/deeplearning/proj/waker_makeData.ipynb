{
 "cells": [
  {
   "cell_type": "code",
   "execution_count": 1,
   "metadata": {},
   "outputs": [
    {
     "name": "stdout",
     "output_type": "stream",
     "text": [
      "(91, 122)\n"
     ]
    }
   ],
   "source": [
    "import numpy as np\n",
    "import matplotlib.pyplot as plt\n",
    "import os\n",
    "import cv2\n",
    "\n",
    "DATADIR = \"dataset\\self\"\n",
    "EYEOPEN = [\"closed\",\"open\"]\n",
    "EYEPLACE = [\"left\", \"right\"]\n",
    "\n",
    "for eye in EYEOPEN:\n",
    "    path = os.path.join(DATADIR, eye)\n",
    "    for place in EYEPLACE:\n",
    "        path2 = os.path.join(path, place)\n",
    "        for img in os.listdir(path2):\n",
    "            img_array = cv2.imread(os.path.join(path2,img), cv2.IMREAD_GRAYSCALE)\n",
    "\n",
    "print(img_array.shape)\n"
   ]
  },
  {
   "cell_type": "code",
   "execution_count": 11,
   "metadata": {},
   "outputs": [],
   "source": [
    "training_data = []\n",
    "IMG_HEIGHT = 100\n",
    "IMG_WIDTH = 100\n",
    "def create_training_data():\n",
    "    for eye in EYEOPEN:\n",
    "        pathtmp = os.path.join(DATADIR, eye)\n",
    "        for place in EYEPLACE:\n",
    "            path = os.path.join(pathtmp, place)\n",
    "            class_num = str(EYEOPEN.index(eye))+str(EYEPLACE.index(place))\n",
    "            for img in os.listdir(path):\n",
    "                try:\n",
    "                    img_array = cv2.imread(os.path.join(path,img), cv2.IMREAD_GRAYSCALE)\n",
    "                    new_array = cv2.resize(img_array, (IMG_HEIGHT, IMG_WIDTH))\n",
    "                    training_data.append([new_array, class_num])\n",
    "                except Exception as e:\n",
    "                    pass\n",
    "\n",
    "create_training_data()"
   ]
  },
  {
   "cell_type": "code",
   "execution_count": 3,
   "metadata": {},
   "outputs": [],
   "source": [
    "import random\n",
    "\n",
    "random.shuffle(training_data)"
   ]
  },
  {
   "cell_type": "code",
   "execution_count": 4,
   "metadata": {},
   "outputs": [
    {
     "name": "stdout",
     "output_type": "stream",
     "text": [
      "11\n",
      "00\n",
      "01\n",
      "00\n",
      "00\n",
      "00\n",
      "00\n",
      "10\n",
      "10\n",
      "01\n"
     ]
    }
   ],
   "source": [
    "for sample in training_data[:10]:\n",
    "    print(sample[1])\n",
    "    "
   ]
  },
  {
   "cell_type": "code",
   "execution_count": 5,
   "metadata": {},
   "outputs": [],
   "source": [
    "Xr=[]\n",
    "Xl=[]\n",
    "yr=[]\n",
    "yl=[]"
   ]
  },
  {
   "cell_type": "code",
   "execution_count": 6,
   "metadata": {
    "scrolled": true
   },
   "outputs": [
    {
     "name": "stdout",
     "output_type": "stream",
     "text": [
      "(23, 34, 26)\n",
      "(23, 26, 34, 1)\n"
     ]
    }
   ],
   "source": [
    "for features, label in training_data:\n",
    "    if label=='00' or label=='10':\n",
    "        Xl.append(features)\n",
    "        yl.append([float(label[0])])\n",
    "    else:\n",
    "        Xr.append(features)\n",
    "        yr.append([float(label[0])])\n",
    "\n",
    "print(np.array(Xr).shape)\n",
    "Xr = np.array(Xr).reshape(-1, IMG_HEIGHT, IMG_WIDTH, 1)\n",
    "Xl = np.array(Xl).reshape(-1, IMG_HEIGHT, IMG_WIDTH, 1)\n",
    "print(np.array(Xr).shape)"
   ]
  },
  {
   "cell_type": "code",
   "execution_count": 7,
   "metadata": {},
   "outputs": [],
   "source": [
    "np.save('dataset\\Xr.npy', Xr)\n",
    "np.save('dataset\\Xl.npy', Xl)\n",
    "np.save('dataset\\yr.npy', yr)\n",
    "np.save('dataset\\yl.npy', yl)"
   ]
  },
  {
   "cell_type": "code",
   "execution_count": 8,
   "metadata": {},
   "outputs": [
    {
     "name": "stdout",
     "output_type": "stream",
     "text": [
      "(23, 26, 34, 1)\n"
     ]
    }
   ],
   "source": [
    "data = np.load('dataset\\Xr.npy')\n",
    "print(data.shape)"
   ]
  },
  {
   "cell_type": "code",
   "execution_count": null,
   "metadata": {},
   "outputs": [],
   "source": []
  },
  {
   "cell_type": "code",
   "execution_count": null,
   "metadata": {},
   "outputs": [],
   "source": []
  },
  {
   "cell_type": "code",
   "execution_count": null,
   "metadata": {},
   "outputs": [],
   "source": []
  }
 ],
 "metadata": {
  "kernelspec": {
   "display_name": "Python 3",
   "language": "python",
   "name": "python3"
  },
  "language_info": {
   "codemirror_mode": {
    "name": "ipython",
    "version": 3
   },
   "file_extension": ".py",
   "mimetype": "text/x-python",
   "name": "python",
   "nbconvert_exporter": "python",
   "pygments_lexer": "ipython3",
   "version": "3.7.6"
  }
 },
 "nbformat": 4,
 "nbformat_minor": 4
}
