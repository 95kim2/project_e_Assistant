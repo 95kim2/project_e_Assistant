{
 "cells": [
  {
   "cell_type": "code",
   "execution_count": 20,
   "metadata": {},
   "outputs": [],
   "source": [
    "from helpers import *\n",
    "import matplotlib.pyplot as plt\n",
    "import os, glob, cv2, random\n",
    "import seaborn as sns\n",
    "import pandas as pd\n",
    "import numpy as np"
   ]
  },
  {
   "cell_type": "markdown",
   "metadata": {},
   "source": [
    "# Preview"
   ]
  },
  {
   "cell_type": "code",
   "execution_count": 21,
   "metadata": {},
   "outputs": [
    {
     "name": "stdout",
     "output_type": "stream",
     "text": [
      "(54, 26, 34, 1)\n"
     ]
    }
   ],
   "source": [
    "base_path = 'dataset'\n",
    "\n",
    "Xr= np.load(os.path.join(base_path, 'Xr.npy'))\n",
    "Xl= np.load(os.path.join(base_path, 'Xl.npy'))\n",
    "yr= np.load(os.path.join(base_path, 'yr.npy'))\n",
    "yl= np.load(os.path.join(base_path, 'yl.npy'))\n",
    "print(Xr.shape)\n",
    "\n",
    "IMG_HEIGHT = 26\n",
    "IMG_WIDTH = 34"
   ]
  },
  {
   "cell_type": "code",
   "execution_count": 22,
   "metadata": {
    "scrolled": true
   },
   "outputs": [
    {
     "ename": "SyntaxError",
     "evalue": "invalid syntax (<ipython-input-22-9896ce332d91>, line 7)",
     "output_type": "error",
     "traceback": [
      "\u001b[1;36m  File \u001b[1;32m\"<ipython-input-22-9896ce332d91>\"\u001b[1;36m, line \u001b[1;32m7\u001b[0m\n\u001b[1;33m    print(Xr[i].shape)\u001b[0m\n\u001b[1;37m        ^\u001b[0m\n\u001b[1;31mSyntaxError\u001b[0m\u001b[1;31m:\u001b[0m invalid syntax\n"
     ]
    }
   ],
   "source": [
    "# 내가 봤을때 오른쪽 눈\n",
    "plt.figure(figsize=(26, 34))\n",
    "for i in range(0,Xr.shape[0]):\n",
    "    plt.subplot(10, 5, i+1)\n",
    "    plt.axis('off')\n",
    "    plt.imshow(Xr[i].reshape((IMG_HEIGHT, IMG_WIDTH), cmap='gray')\n",
    "    print(Xr[i].shape)"
   ]
  },
  {
   "cell_type": "code",
   "execution_count": 23,
   "metadata": {
    "scrolled": true
   },
   "outputs": [
    {
     "data": {
      "text/plain": [
       "<matplotlib.axes._subplots.AxesSubplot at 0x20b89bf1408>"
      ]
     },
     "execution_count": 23,
     "metadata": {},
     "output_type": "execute_result"
    },
    {
     "data": {
      "image/png": "[encoded data removed]",
      "text/plain": [
       "<Figure size 432x288 with 1 Axes>"
      ]
     },
     "metadata": {
      "needs_background": "light"
     },
     "output_type": "display_data"
    }
   ],
   "source": [
    "sns.distplot(yr, kde=False)"
   ]
  },
  {
   "cell_type": "markdown",
   "metadata": {},
   "source": [
    "# Preprocessing"
   ]
  },
  {
   "cell_type": "code",
   "execution_count": 24,
   "metadata": {},
   "outputs": [],
   "source": [
    "nr_total = len(Xr)\n",
    "nl_total = len(Xl)\n",
    "Xr_result = np.empty((nr_total, IMG_WIDTH, IMG_HEIGHT, 1))\n",
    "Xl_result = np.empty((nl_total, IMG_WIDTH, IMG_HEIGHT, 1))\n",
    "\n",
    "for i, x in enumerate(Xr):\n",
    "    img = x.reshape((IMG_WIDTH, IMG_HEIGHT, 1))\n",
    "    Xr_result[i] = img\n",
    "    \n",
    "for i, x in enumerate(Xl):\n",
    "    img = x.reshape((IMG_WIDTH, IMG_HEIGHT, 1))\n",
    "    Xl_result[i] = img"
   ]
  },
  {
   "cell_type": "code",
   "execution_count": 25,
   "metadata": {},
   "outputs": [
    {
     "name": "stdout",
     "output_type": "stream",
     "text": [
      "(43, 34, 26, 1) (43, 1)\n",
      "(11, 34, 26, 1) (11, 1)\n",
      "[[0.]\n",
      " [1.]\n",
      " [1.]\n",
      " [1.]\n",
      " [1.]\n",
      " [0.]\n",
      " [0.]\n",
      " [1.]\n",
      " [1.]\n",
      " [0.]\n",
      " [0.]\n",
      " [0.]\n",
      " [0.]\n",
      " [1.]\n",
      " [1.]\n",
      " [0.]\n",
      " [0.]\n",
      " [0.]\n",
      " [0.]\n",
      " [0.]\n",
      " [0.]\n",
      " [1.]\n",
      " [1.]\n",
      " [0.]\n",
      " [1.]\n",
      " [0.]\n",
      " [0.]\n",
      " [1.]\n",
      " [1.]\n",
      " [1.]\n",
      " [0.]\n",
      " [0.]\n",
      " [1.]\n",
      " [1.]\n",
      " [1.]\n",
      " [1.]\n",
      " [0.]\n",
      " [1.]\n",
      " [1.]\n",
      " [1.]\n",
      " [1.]\n",
      " [0.]\n",
      " [1.]]\n",
      "[[1.]\n",
      " [1.]\n",
      " [0.]\n",
      " [0.]\n",
      " [0.]\n",
      " [1.]\n",
      " [0.]\n",
      " [0.]\n",
      " [1.]\n",
      " [0.]\n",
      " [1.]]\n"
     ]
    }
   ],
   "source": [
    "from sklearn.model_selection import train_test_split\n",
    "\n",
    "xr_train, xr_val, yr_train, yr_val = train_test_split(Xr_result, yr, test_size=0.2)\n",
    "xl_train, xl_val, yl_train, yl_val = train_test_split(Xl_result, yl, test_size=0.2)\n",
    "\n",
    "print(xr_train.shape, yr_train.shape)\n",
    "print(xl_val.shape, yl_val.shape)\n",
    "\n",
    "print(yr_train)\n",
    "print(yr_val)\n",
    "\n",
    "np.save('dataset/xr_train.npy', xr_train)\n",
    "np.save('dataset/yr_train.npy', yr_train)\n",
    "np.save('dataset/xr_val.npy', xr_val)\n",
    "np.save('dataset/yr_val.npy', yr_val)\n",
    "\n",
    "np.save('dataset/xl_train.npy', xl_train)\n",
    "np.save('dataset/yl_train.npy', yl_train)\n",
    "np.save('dataset/xl_val.npy', xl_val)\n",
    "np.save('dataset/yl_val.npy', yl_val)"
   ]
  },
  {
   "cell_type": "code",
   "execution_count": 26,
   "metadata": {},
   "outputs": [
    {
     "data": {
      "image/png": "[encoded data removed]",
      "text/plain": [
       "<Figure size 432x288 with 4 Axes>"
      ]
     },
     "metadata": {
      "needs_background": "light"
     },
     "output_type": "display_data"
    }
   ],
   "source": [
    "plt.subplot(2, 2, 1)\n",
    "plt.title(str(yr_train[0]))\n",
    "plt.imshow(xr_train[0].reshape((IMG_HEIGHT, IMG_WIDTH)), cmap='gray')\n",
    "plt.subplot(2, 2, 2)\n",
    "plt.title(str(yr_val[4]))\n",
    "plt.imshow(xr_val[4].reshape((IMG_HEIGHT, IMG_WIDTH)), cmap='gray')\n",
    "plt.subplot(2, 2, 3)\n",
    "plt.title(str(yl_train[0]))\n",
    "plt.imshow(xl_train[0].reshape((IMG_HEIGHT, IMG_WIDTH)), cmap='gray')\n",
    "plt.subplot(2, 2, 4)\n",
    "plt.title(str(yl_val[3]))\n",
    "plt.imshow(xl_val[3].reshape((IMG_HEIGHT, IMG_WIDTH)), cmap='gray')\n",
    "plt.tight_layout()"
   ]
  },
  {
   "cell_type": "code",
   "execution_count": 27,
   "metadata": {},
   "outputs": [
    {
     "data": {
      "text/plain": [
       "<matplotlib.axes._subplots.AxesSubplot at 0x20b89a95308>"
      ]
     },
     "execution_count": 27,
     "metadata": {},
     "output_type": "execute_result"
    },
    {
     "data": {
      "image/png": "[encoded data removed]",
      "text/plain": [
       "<Figure size 432x288 with 1 Axes>"
      ]
     },
     "metadata": {
      "needs_background": "light"
     },
     "output_type": "display_data"
    }
   ],
   "source": [
    "sns.distplot(yr_train, kde=False)"
   ]
  },
  {
   "cell_type": "code",
   "execution_count": 28,
   "metadata": {},
   "outputs": [
    {
     "data": {
      "text/plain": [
       "<matplotlib.axes._subplots.AxesSubplot at 0x20b898f3d88>"
      ]
     },
     "execution_count": 28,
     "metadata": {},
     "output_type": "execute_result"
    },
    {
     "data": {
      "image/png": "[encoded data removed]",
      "text/plain": [
       "<Figure size 432x288 with 1 Axes>"
      ]
     },
     "metadata": {
      "needs_background": "light"
     },
     "output_type": "display_data"
    }
   ],
   "source": [
    "sns.distplot(yr_val, kde=False)"
   ]
  },
  {
   "cell_type": "code",
   "execution_count": null,
   "metadata": {},
   "outputs": [],
   "source": []
  }
 ],
 "metadata": {
  "kernelspec": {
   "display_name": "Python 3",
   "language": "python",
   "name": "python3"
  },
  "language_info": {
   "codemirror_mode": {
    "name": "ipython",
    "version": 3
   },
   "file_extension": ".py",
   "mimetype": "text/x-python",
   "name": "python",
   "nbconvert_exporter": "python",
   "pygments_lexer": "ipython3",
   "version": "3.7.6"
  }
 },
 "nbformat": 4,
 "nbformat_minor": 2
}
