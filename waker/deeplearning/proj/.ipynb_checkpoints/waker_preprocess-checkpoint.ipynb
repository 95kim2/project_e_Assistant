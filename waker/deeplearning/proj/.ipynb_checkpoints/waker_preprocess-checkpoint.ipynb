{
 "cells": [
  {
   "cell_type": "code",
   "execution_count": 1,
   "metadata": {},
   "outputs": [],
   "source": [
    "from helpers import *\n",
    "import matplotlib.pyplot as plt\n",
    "import os, glob, cv2, random\n",
    "import seaborn as sns\n",
    "import pandas as pd\n",
    "import numpy as np"
   ]
  },
  {
   "cell_type": "markdown",
   "metadata": {},
   "source": [
    "# Preprocessing"
   ]
  },
  {
   "cell_type": "code",
   "execution_count": 4,
   "metadata": {},
   "outputs": [],
   "source": [
    "nr_total = len(Xr)\n",
    "nl_total = len(Xl)\n",
    "Xr_result = np.empty((nr_total, IMG_WIDTH, IMG_HEIGHT, 1))\n",
    "Xl_result = np.empty((nl_total, IMG_WIDTH, IMG_HEIGHT, 1))\n",
    "\n",
    "for i, x in enumerate(Xr):\n",
    "    img = x.reshape((IMG_WIDTH, IMG_HEIGHT, 1))\n",
    "    Xr_result[i] = img\n",
    "    \n",
    "for i, x in enumerate(Xl):\n",
    "    img = x.reshape((IMG_WIDTH, IMG_HEIGHT, 1))\n",
    "    Xl_result[i] = img"
   ]
  },
  {
   "cell_type": "code",
   "execution_count": 5,
   "metadata": {},
   "outputs": [
    {
     "name": "stdout",
     "output_type": "stream",
     "text": [
      "(43, 34, 26, 1) (43, 1)\n",
      "(11, 34, 26, 1) (11, 1)\n",
      "[[0.]\n",
      " [0.]\n",
      " [0.]\n",
      " [1.]\n",
      " [0.]\n",
      " [1.]\n",
      " [0.]\n",
      " [0.]\n",
      " [0.]\n",
      " [1.]\n",
      " [0.]\n",
      " [0.]\n",
      " [0.]\n",
      " [1.]\n",
      " [0.]\n",
      " [0.]\n",
      " [1.]\n",
      " [1.]\n",
      " [1.]\n",
      " [0.]\n",
      " [1.]\n",
      " [1.]\n",
      " [0.]\n",
      " [0.]\n",
      " [1.]\n",
      " [1.]\n",
      " [0.]\n",
      " [0.]\n",
      " [0.]\n",
      " [0.]\n",
      " [1.]\n",
      " [1.]\n",
      " [1.]\n",
      " [0.]\n",
      " [0.]\n",
      " [1.]\n",
      " [1.]\n",
      " [0.]\n",
      " [1.]\n",
      " [1.]\n",
      " [1.]\n",
      " [1.]\n",
      " [0.]]\n",
      "[[0.]\n",
      " [1.]\n",
      " [1.]\n",
      " [1.]\n",
      " [1.]\n",
      " [1.]\n",
      " [0.]\n",
      " [0.]\n",
      " [1.]\n",
      " [1.]\n",
      " [1.]]\n"
     ]
    }
   ],
   "source": [
    "from sklearn.model_selection import train_test_split\n",
    "\n",
    "xr_train, xr_val, yr_train, yr_val = train_test_split(Xr_result, yr, test_size=0.2)\n",
    "xl_train, xl_val, yl_train, yl_val = train_test_split(Xl_result, yl, test_size=0.2)\n",
    "\n",
    "print(xr_train.shape, yr_train.shape)\n",
    "print(xl_val.shape, yl_val.shape)\n",
    "\n",
    "print(yr_train)\n",
    "print(yr_val)\n",
    "\n",
    "np.save('dataset/xr_train.npy', xr_train)\n",
    "np.save('dataset/yr_train.npy', yr_train)\n",
    "np.save('dataset/xr_val.npy', xr_val)\n",
    "np.save('dataset/yr_val.npy', yr_val)\n",
    "\n",
    "np.save('dataset/xl_train.npy', xl_train)\n",
    "np.save('dataset/yl_train.npy', yl_train)\n",
    "np.save('dataset/xl_val.npy', xl_val)\n",
    "np.save('dataset/yl_val.npy', yl_val)"
   ]
  },
  {
   "cell_type": "code",
   "execution_count": 6,
   "metadata": {},
   "outputs": [
    {
     "data": {
      "image/png": "[encoded data removed]",
      "text/plain": [
       "<Figure size 432x288 with 4 Axes>"
      ]
     },
     "metadata": {
      "needs_background": "light"
     },
     "output_type": "display_data"
    }
   ],
   "source": [
    "plt.subplot(2, 2, 1)\n",
    "plt.title(str(yr_train[0]))\n",
    "plt.imshow(xr_train[0].reshape((IMG_HEIGHT, IMG_WIDTH)), cmap='gray')\n",
    "plt.subplot(2, 2, 2)\n",
    "plt.title(str(yr_val[4]))\n",
    "plt.imshow(xr_val[4].reshape((IMG_HEIGHT, IMG_WIDTH)), cmap='gray')\n",
    "plt.subplot(2, 2, 3)\n",
    "plt.title(str(yl_train[0]))\n",
    "plt.imshow(xl_train[0].reshape((IMG_HEIGHT, IMG_WIDTH)), cmap='gray')\n",
    "plt.subplot(2, 2, 4)\n",
    "plt.title(str(yl_val[3]))\n",
    "plt.imshow(xl_val[3].reshape((IMG_HEIGHT, IMG_WIDTH)), cmap='gray')\n",
    "plt.tight_layout()"
   ]
  },
  {
   "cell_type": "code",
   "execution_count": 7,
   "metadata": {},
   "outputs": [
    {
     "data": {
      "text/plain": [
       "<matplotlib.axes._subplots.AxesSubplot at 0x1ba7e17ac08>"
      ]
     },
     "execution_count": 7,
     "metadata": {},
     "output_type": "execute_result"
    },
    {
     "data": {
      "image/png": "[encoded data removed]",
      "text/plain": [
       "<Figure size 432x288 with 1 Axes>"
      ]
     },
     "metadata": {
      "needs_background": "light"
     },
     "output_type": "display_data"
    }
   ],
   "source": [
    "sns.distplot(yr_train, kde=False)"
   ]
  },
  {
   "cell_type": "code",
   "execution_count": 8,
   "metadata": {},
   "outputs": [
    {
     "data": {
      "text/plain": [
       "<matplotlib.axes._subplots.AxesSubplot at 0x1ba7e1cb988>"
      ]
     },
     "execution_count": 8,
     "metadata": {},
     "output_type": "execute_result"
    },
    {
     "data": {
      "image/png": "[encoded data removed]",
      "text/plain": [
       "<Figure size 432x288 with 1 Axes>"
      ]
     },
     "metadata": {
      "needs_background": "light"
     },
     "output_type": "display_data"
    }
   ],
   "source": [
    "sns.distplot(yr_val, kde=False)"
   ]
  },
  {
   "cell_type": "code",
   "execution_count": null,
   "metadata": {},
   "outputs": [],
   "source": []
  }
 ],
 "metadata": {
  "kernelspec": {
   "display_name": "Python 3",
   "language": "python",
   "name": "python3"
  },
  "language_info": {
   "codemirror_mode": {
    "name": "ipython",
    "version": 3
   },
   "file_extension": ".py",
   "mimetype": "text/x-python",
   "name": "python",
   "nbconvert_exporter": "python",
   "pygments_lexer": "ipython3",
   "version": "3.7.6"
  }
 },
 "nbformat": 4,
 "nbformat_minor": 2
}
